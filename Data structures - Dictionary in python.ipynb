{
 "cells": [
  {
   "cell_type": "markdown",
   "id": "0b8107ae",
   "metadata": {},
   "source": [
    "Data Structure - Dictionary"
   ]
  },
  {
   "cell_type": "raw",
   "id": "c92de726",
   "metadata": {},
   "source": [
    "#What is a Dictionary in Python?\n",
    "*Dictionary is a unordered data structure.\n",
    "*Element are separated by a comma and stored as key:value pair.\n",
    "*Dictionary is enclosed within curly bracket.\n",
    "*Elements are accessed by keys rather than index.\n",
    "*Dictionary is also mutable collection. But you have seen in the list thr index of the list are integer number. Here, indexex for dictionary can be many data types, not just integer.\n",
    "*Indexes for dictionaries called keys, and key with its associated value is called a key-value pair.\n",
    "*Items in the dictionaries are unordered. You can find out the first item in a list simply like my_list[0]. But there is no  “first” item in a dictionary.\n",
    "*Note: Dictionaries in Python 3.7 and later will remember the insertion order of their key-value pairs if you create a sequence value from them. But these are still unordered, as you can’t access items in them using integer indexes.\n",
    "*When we check whether the 2 lists are same or not the order of values in the list matters. It does not matter in what order the key-value pairs are typed in a dictionary."
   ]
  },
  {
   "cell_type": "markdown",
   "id": "452884d8",
   "metadata": {},
   "source": [
    "#Defining a dictionary in python\n",
    "\n",
    "{\n",
    "    'key_1' : 'value_1',\n",
    "    'key_2' : 'value_2',\n",
    "    .\n",
    "    .\n",
    "    .\n",
    "    'key_n' : 'value_n'\n",
    "}\n"
   ]
  },
  {
   "cell_type": "code",
   "execution_count": 4,
   "id": "57c632d7",
   "metadata": {},
   "outputs": [],
   "source": [
    "#defining a key value pair\n",
    "\n",
    "my_dictionary = {\n",
    "    'name': 'abc',\n",
    "    'age' : 21,\n",
    "    'roll_no' : 'CSE100',\n",
    "    'percentage' : 85,\n",
    "    'attendence' : 74,\n",
    "    'city' : 'bangalore',\n",
    "    'country' : 'india'\n",
    "}"
   ]
  },
  {
   "cell_type": "code",
   "execution_count": 6,
   "id": "e95397c5",
   "metadata": {},
   "outputs": [
    {
     "data": {
      "text/plain": [
       "{'name': 'abc',\n",
       " 'age': 21,\n",
       " 'roll_no': 'CSE100',\n",
       " 'percentage': 85,\n",
       " 'attendence': 74,\n",
       " 'city': 'bangalore',\n",
       " 'country': 'india'}"
      ]
     },
     "execution_count": 6,
     "metadata": {},
     "output_type": "execute_result"
    }
   ],
   "source": [
    "my_dictionary"
   ]
  },
  {
   "cell_type": "code",
   "execution_count": 11,
   "id": "3c86b267",
   "metadata": {},
   "outputs": [
    {
     "name": "stdout",
     "output_type": "stream",
     "text": [
      "Name is : abc\n"
     ]
    }
   ],
   "source": [
    "#accessing key of the dictionary\n",
    "print('Name is :', my_dictionary['name'])"
   ]
  },
  {
   "cell_type": "code",
   "execution_count": 12,
   "id": "49243344",
   "metadata": {},
   "outputs": [
    {
     "name": "stdout",
     "output_type": "stream",
     "text": [
      " age before updation is: 21\n",
      " age after updation is: 25\n"
     ]
    }
   ],
   "source": [
    "print(' age before updation is:', my_dictionary['age'])\n",
    "\n",
    "#update the value of the key\n",
    "my_dictionary['age']=25\n",
    "\n",
    "print(' age after updation is:' , my_dictionary['age'])"
   ]
  },
  {
   "cell_type": "code",
   "execution_count": 13,
   "id": "1242e914",
   "metadata": {},
   "outputs": [
    {
     "data": {
      "text/plain": [
       "dict_keys(['name', 'age', 'roll_no', 'percentage', 'attendence', 'city', 'country'])"
      ]
     },
     "execution_count": 13,
     "metadata": {},
     "output_type": "execute_result"
    }
   ],
   "source": [
    "#get keys of the dictionary\n",
    "my_dictionary.keys()"
   ]
  },
  {
   "cell_type": "code",
   "execution_count": 14,
   "id": "46cbd73e",
   "metadata": {},
   "outputs": [
    {
     "data": {
      "text/plain": [
       "dict_values(['abc', 25, 'CSE100', 85, 74, 'bangalore', 'india'])"
      ]
     },
     "execution_count": 14,
     "metadata": {},
     "output_type": "execute_result"
    }
   ],
   "source": [
    "#get the value of the dictionary\n",
    "my_dictionary.values()"
   ]
  },
  {
   "cell_type": "code",
   "execution_count": 15,
   "id": "6050a109",
   "metadata": {},
   "outputs": [],
   "source": [
    "#update a dictionary with dictionary\n",
    "my_dictionary.update({'pincode':560011, 'last_name':'xyz'})"
   ]
  },
  {
   "cell_type": "code",
   "execution_count": 16,
   "id": "ac55c96a",
   "metadata": {},
   "outputs": [
    {
     "data": {
      "text/plain": [
       "{'name': 'abc',\n",
       " 'age': 25,\n",
       " 'roll_no': 'CSE100',\n",
       " 'percentage': 85,\n",
       " 'attendence': 74,\n",
       " 'city': 'bangalore',\n",
       " 'country': 'india',\n",
       " 'pincode': 560011,\n",
       " 'last_name': 'xyz'}"
      ]
     },
     "execution_count": 16,
     "metadata": {},
     "output_type": "execute_result"
    }
   ],
   "source": [
    "my_dictionary"
   ]
  },
  {
   "cell_type": "code",
   "execution_count": 19,
   "id": "9456ff00",
   "metadata": {},
   "outputs": [],
   "source": [
    "#add a new keys to dictionary\n",
    "my_dictionary['result'] = 'pass'"
   ]
  },
  {
   "cell_type": "code",
   "execution_count": 20,
   "id": "a6d16d10",
   "metadata": {},
   "outputs": [
    {
     "data": {
      "text/plain": [
       "{'name': 'abc',\n",
       " 'age': 25,\n",
       " 'roll_no': 'CSE100',\n",
       " 'percentage': 85,\n",
       " 'attendence': 74,\n",
       " 'city': 'bangalore',\n",
       " 'country': 'india',\n",
       " 'pincode': 560011,\n",
       " 'last_name': 'xyz',\n",
       " 'result': 'pass'}"
      ]
     },
     "execution_count": 20,
     "metadata": {},
     "output_type": "execute_result"
    }
   ],
   "source": [
    "my_dictionary"
   ]
  },
  {
   "cell_type": "markdown",
   "id": "af7daad6",
   "metadata": {},
   "source": [
    "Dictionarty keys"
   ]
  },
  {
   "cell_type": "code",
   "execution_count": 22,
   "id": "ca5d16e0",
   "metadata": {},
   "outputs": [],
   "source": [
    "# most of the data types can be used as keys in Dictionaries\n",
    "\n",
    "sample = {\n",
    "    'string' : 'string',\n",
    "    10       : 'int',\n",
    "    1.5 : 'float',\n",
    "    False :' Boolean'\n",
    "}"
   ]
  },
  {
   "cell_type": "markdown",
   "id": "ea34d258",
   "metadata": {},
   "source": [
    "Duplicate Keys\n",
    "*If we add duplicate keys, it will not throw an error instead it will overwrite the value which is added in the last."
   ]
  },
  {
   "cell_type": "code",
   "execution_count": 27,
   "id": "bfbb45e6",
   "metadata": {},
   "outputs": [],
   "source": [
    "sample = {\n",
    "    'A' : 1,\n",
    "    'B' : 2,\n",
    "    'C' : 3\n",
    "}"
   ]
  },
  {
   "cell_type": "code",
   "execution_count": 31,
   "id": "5f0f6aca",
   "metadata": {},
   "outputs": [
    {
     "data": {
      "text/plain": [
       "100"
      ]
     },
     "execution_count": 31,
     "metadata": {},
     "output_type": "execute_result"
    }
   ],
   "source": [
    "sample['A']"
   ]
  },
  {
   "cell_type": "code",
   "execution_count": 29,
   "id": "5993cb0a",
   "metadata": {},
   "outputs": [],
   "source": [
    "sample = {\n",
    "    'A' : 1,\n",
    "    'B' : 2,\n",
    "    'C' : 3,\n",
    "    'A' : 100\n",
    "}"
   ]
  },
  {
   "cell_type": "code",
   "execution_count": 30,
   "id": "07ab4139",
   "metadata": {},
   "outputs": [
    {
     "data": {
      "text/plain": [
       "100"
      ]
     },
     "execution_count": 30,
     "metadata": {},
     "output_type": "execute_result"
    }
   ],
   "source": [
    "sample['A']"
   ]
  },
  {
   "cell_type": "markdown",
   "id": "6fa9f5eb",
   "metadata": {},
   "source": [
    "A dictionary key must be of a type that is immutable."
   ]
  },
  {
   "cell_type": "code",
   "execution_count": 34,
   "id": "0654113c",
   "metadata": {},
   "outputs": [
    {
     "ename": "TypeError",
     "evalue": "unhashable type: 'list'",
     "output_type": "error",
     "traceback": [
      "\u001b[1;31m---------------------------------------------------------------------------\u001b[0m",
      "\u001b[1;31mTypeError\u001b[0m                                 Traceback (most recent call last)",
      "\u001b[1;32m<ipython-input-34-2550f827adde>\u001b[0m in \u001b[0;36m<module>\u001b[1;34m\u001b[0m\n\u001b[0;32m      1\u001b[0m \u001b[1;31m# list is mutable, hence not allowed\u001b[0m\u001b[1;33m\u001b[0m\u001b[1;33m\u001b[0m\u001b[1;33m\u001b[0m\u001b[0m\n\u001b[1;32m----> 2\u001b[1;33m sample = {\n\u001b[0m\u001b[0;32m      3\u001b[0m     \u001b[1;36m1\u001b[0m \u001b[1;33m:\u001b[0m \u001b[1;34m'integer'\u001b[0m\u001b[1;33m,\u001b[0m\u001b[1;33m\u001b[0m\u001b[1;33m\u001b[0m\u001b[0m\n\u001b[0;32m      4\u001b[0m     \u001b[1;33m[\u001b[0m\u001b[1;36m1\u001b[0m\u001b[1;33m,\u001b[0m \u001b[1;36m2\u001b[0m\u001b[1;33m]\u001b[0m \u001b[1;33m:\u001b[0m \u001b[1;34m'list'\u001b[0m\u001b[1;33m\u001b[0m\u001b[1;33m\u001b[0m\u001b[0m\n\u001b[0;32m      5\u001b[0m }\n",
      "\u001b[1;31mTypeError\u001b[0m: unhashable type: 'list'"
     ]
    }
   ],
   "source": [
    "# list is mutable, hence not allowed\n",
    "sample = {\n",
    "    1 : 'integer',\n",
    "    [1, 2] : 'list'\n",
    "}"
   ]
  },
  {
   "cell_type": "code",
   "execution_count": 35,
   "id": "bec17419",
   "metadata": {},
   "outputs": [],
   "source": [
    "# tuple is immutable, hence it is allowed\n",
    "sample = {\n",
    "    1 : 'integer',\n",
    "    (1, 2) : 'list'\n",
    "}"
   ]
  },
  {
   "cell_type": "code",
   "execution_count": 36,
   "id": "5daee2f0",
   "metadata": {},
   "outputs": [
    {
     "data": {
      "text/plain": [
       "{1: 'integer', (1, 2): 'list'}"
      ]
     },
     "execution_count": 36,
     "metadata": {},
     "output_type": "execute_result"
    }
   ],
   "source": [
    "sample"
   ]
  },
  {
   "cell_type": "markdown",
   "id": "87be56fc",
   "metadata": {},
   "source": [
    "Compare 2 dictionaries by changing their order."
   ]
  },
  {
   "cell_type": "code",
   "execution_count": 37,
   "id": "3043176e",
   "metadata": {},
   "outputs": [
    {
     "data": {
      "text/plain": [
       "True"
      ]
     },
     "execution_count": 37,
     "metadata": {},
     "output_type": "execute_result"
    }
   ],
   "source": [
    "my_dict_1 = {\n",
    "    'key_1' : 'value_1',\n",
    "    'key_2' : 'value_2',\n",
    "    'key_3' : 3\n",
    "}\n",
    "\n",
    "my_dict_2 = {\n",
    "    'key_3' : 3,\n",
    "    'key_1' : 'value_1',\n",
    "    'key_2' : 'value_2'\n",
    "}\n",
    "\n",
    "(my_dict_1 == my_dict_2)"
   ]
  },
  {
   "cell_type": "markdown",
   "id": "292ea49a",
   "metadata": {},
   "source": [
    "terate through key-value pairs of the dictionary"
   ]
  },
  {
   "cell_type": "code",
   "execution_count": 38,
   "id": "9961d010",
   "metadata": {},
   "outputs": [
    {
     "name": "stdout",
     "output_type": "stream",
     "text": [
      "name abc\n",
      "age 25\n",
      "roll_no CSE100\n",
      "percentage 85\n",
      "attendence 74\n",
      "city bangalore\n",
      "country india\n",
      "pincode 560011\n",
      "last_name xyz\n",
      "result pass\n"
     ]
    }
   ],
   "source": [
    "# Iterate through key-value pairs of the dictionary\n",
    "\n",
    "for key,value in my_dictionary.items() :\n",
    "    print(key,value)"
   ]
  },
  {
   "cell_type": "code",
   "execution_count": 39,
   "id": "f573532c",
   "metadata": {},
   "outputs": [
    {
     "name": "stdout",
     "output_type": "stream",
     "text": [
      "name\n",
      "age\n",
      "roll_no\n",
      "percentage\n",
      "attendence\n",
      "city\n",
      "country\n",
      "pincode\n",
      "last_name\n",
      "result\n"
     ]
    }
   ],
   "source": [
    "# Iterate through key of the dictionary\n",
    "\n",
    "for key in my_dictionary :\n",
    "    print(key)"
   ]
  },
  {
   "cell_type": "code",
   "execution_count": 43,
   "id": "3a150bcf",
   "metadata": {},
   "outputs": [
    {
     "name": "stdout",
     "output_type": "stream",
     "text": [
      "name abc\n",
      "age 25\n",
      "roll_no CSE100\n",
      "percentage 85\n",
      "attendence 74\n",
      "city bangalore\n",
      "country india\n",
      "pincode 560011\n",
      "last_name xyz\n",
      "result pass\n"
     ]
    }
   ],
   "source": [
    "for key,value in my_dictionary.items() :\n",
    "    print(key,value)"
   ]
  },
  {
   "cell_type": "markdown",
   "id": "0dfe2585",
   "metadata": {},
   "source": [
    "Sort the dictionary by key"
   ]
  },
  {
   "cell_type": "code",
   "execution_count": 44,
   "id": "22b756c6",
   "metadata": {},
   "outputs": [],
   "source": [
    "m_dict = {\n",
    "    'KL Rahul' : 45,\n",
    "    'Rohit'    : 22,\n",
    "    'Virat'    : 31,\n",
    "    'Dhawan'   : 17,\n",
    "    'Rishabh'  : 10 \n",
    "}"
   ]
  },
  {
   "cell_type": "code",
   "execution_count": 45,
   "id": "61e37f99",
   "metadata": {},
   "outputs": [
    {
     "data": {
      "text/plain": [
       "{'KL Rahul': 45, 'Rohit': 22, 'Virat': 31, 'Dhawan': 17, 'Rishabh': 10}"
      ]
     },
     "execution_count": 45,
     "metadata": {},
     "output_type": "execute_result"
    }
   ],
   "source": [
    "m_dict"
   ]
  },
  {
   "cell_type": "code",
   "execution_count": 48,
   "id": "b3e870d9",
   "metadata": {},
   "outputs": [
    {
     "data": {
      "text/plain": [
       "[('Dhawan', 17),\n",
       " ('KL Rahul', 45),\n",
       " ('Rishabh', 10),\n",
       " ('Rohit', 22),\n",
       " ('Virat', 31)]"
      ]
     },
     "execution_count": 48,
     "metadata": {},
     "output_type": "execute_result"
    }
   ],
   "source": [
    "sorted(m_dict.items())"
   ]
  },
  {
   "cell_type": "code",
   "execution_count": null,
   "id": "34b1ff1c",
   "metadata": {},
   "outputs": [],
   "source": []
  }
 ],
 "metadata": {
  "kernelspec": {
   "display_name": "Python 3",
   "language": "python",
   "name": "python3"
  },
  "language_info": {
   "codemirror_mode": {
    "name": "ipython",
    "version": 3
   },
   "file_extension": ".py",
   "mimetype": "text/x-python",
   "name": "python",
   "nbconvert_exporter": "python",
   "pygments_lexer": "ipython3",
   "version": "3.8.8"
  }
 },
 "nbformat": 4,
 "nbformat_minor": 5
}
